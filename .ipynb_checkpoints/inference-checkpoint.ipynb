{
 "cells": [
  {
   "cell_type": "code",
   "execution_count": 1,
   "id": "finite-underground",
   "metadata": {},
   "outputs": [],
   "source": [
    "import sys\n",
    "sys.path.append(\"./tacotron2/\") # go to parent dir\n",
    "# from customFunctions import *\n",
    "sys.path.append(\"./waveglow/\")"
   ]
  },
  {
   "cell_type": "code",
   "execution_count": 2,
   "id": "following-exhibition",
   "metadata": {},
   "outputs": [],
   "source": [
    "import numpy as np\n",
    "import torch\n",
    "\n",
    "from hparams import create_hparams\n",
    "from model import Tacotron2\n",
    "from layers import TacotronSTFT, STFT\n",
    "from audio_processing import griffin_lim\n",
    "from train import load_model\n",
    "from text import text_to_sequence\n",
    "\n",
    "import matplotlib\n",
    "%matplotlib inline\n",
    "import matplotlib.pylab as plt\n",
    "\n",
    "import IPython.display as ipd\n",
    "\n"
   ]
  },
  {
   "cell_type": "code",
   "execution_count": null,
   "id": "english-angel",
   "metadata": {},
   "outputs": [],
   "source": []
  },
  {
   "cell_type": "code",
   "execution_count": 3,
   "id": "essential-improvement",
   "metadata": {},
   "outputs": [],
   "source": [
    "def plot_data(data, figsize=(16, 4)):\n",
    "    fig, axes = plt.subplots(1, len(data), figsize=figsize)\n",
    "    for i in range(len(data)):\n",
    "        axes[i].imshow(data[i], aspect='auto', \n",
    "                       interpolation='none')"
   ]
  },
  {
   "cell_type": "code",
   "execution_count": 4,
   "id": "closing-convention",
   "metadata": {},
   "outputs": [
    {
     "name": "stdout",
     "output_type": "stream",
     "text": [
      "attention_dim: 128\n",
      "attention_location_kernel_size: 31\n",
      "attention_location_n_filters: 32\n",
      "attention_rnn_dim: 1024\n",
      "batch_size: 16\n",
      "cudnn_benchmark: false\n",
      "cudnn_enabled: true\n",
      "decoder_rnn_dim: 1024\n",
      "dist_backend: nccl\n",
      "dist_url: tcp://localhost:54321\n",
      "distributed_run: false\n",
      "dynamic_loss_scaling: true\n",
      "encoder_embedding_dim: 512\n",
      "encoder_kernel_size: 5\n",
      "encoder_n_convolutions: 3\n",
      "epochs: 37\n",
      "filter_length: 1024\n",
      "fp16_run: false\n",
      "gate_threshold: 0.5\n",
      "grad_clip_thresh: 1.0\n",
      "hop_length: 256\n",
      "ignore_layers:\n",
      "- embedding.weight\n",
      "iters_per_checkpoint: 200\n",
      "learning_rate: 0.001\n",
      "load_mel_from_disk: false\n",
      "mask_padding: true\n",
      "max_decoder_steps: 1000\n",
      "max_wav_value: 32768.0\n",
      "mel_fmax: 8000.0\n",
      "mel_fmin: 0.0\n",
      "n_frames_per_step: 1\n",
      "n_mel_channels: 80\n",
      "n_symbols: 150\n",
      "p_attention_dropout: 0.1\n",
      "p_decoder_dropout: 0.1\n",
      "postnet_embedding_dim: 512\n",
      "postnet_kernel_size: 5\n",
      "postnet_n_convolutions: 5\n",
      "prenet_dim: 256\n",
      "sampling_rate: 22050\n",
      "seed: 1234\n",
      "symbols_embedding_dim: 512\n",
      "text_cleaners:\n",
      "- flowtron_cleaners\n",
      "training_files: filelists/vlsp/train.txt\n",
      "use_saved_learning_rate: false\n",
      "validation_files: filelists/vlsp/test.txt\n",
      "weight_decay: 1.0e-06\n",
      "win_length: 1024\n",
      "\n"
     ]
    }
   ],
   "source": [
    "hparams = create_hparams()\n",
    "hparams.sampling_rate = 22050\n",
    "hparams.training_files = './tacotron2/filelists/vlsp/train.txt'"
   ]
  },
  {
   "cell_type": "code",
   "execution_count": 5,
   "id": "uniform-protection",
   "metadata": {},
   "outputs": [],
   "source": [
    "checkpoint_path = \"./tacotron2/checkpoints/checkpoint_52846\"\n",
    "model = load_model(hparams)\n",
    "model.load_state_dict(torch.load(checkpoint_path)['state_dict'])\n",
    "_ = model.cuda().eval().half()"
   ]
  },
  {
   "cell_type": "code",
   "execution_count": null,
   "id": "legislative-jonathan",
   "metadata": {},
   "outputs": [],
   "source": [
    "from waveglow.denoiser import Denoiser\n",
    "waveglow_path = './waveglow/checkpoints/waveglow_62206'\n",
    "waveglow = torch.load(waveglow_path)['model']\n",
    "waveglow.cuda().eval().half()\n",
    "waveglow = waveglow.remove_weightnorm(waveglow)\n",
    "for k in waveglow.convinv:\n",
    "    k.float()\n",
    "denoiser = Denoiser(waveglow)"
   ]
  },
  {
   "cell_type": "code",
   "execution_count": null,
   "id": "scheduled-exploration",
   "metadata": {},
   "outputs": [],
   "source": [
    "from data_utils import TextMelLoader, TextMelCollate\n",
    "trainset = TextMelLoader(hparams.training_files, hparams)"
   ]
  },
  {
   "cell_type": "code",
   "execution_count": null,
   "id": "referenced-seafood",
   "metadata": {},
   "outputs": [],
   "source": [
    "textx = \"bề cao và bề ngang tương xứng với nhau #\"\n"
   ]
  },
  {
   "cell_type": "code",
   "execution_count": null,
   "id": "fatty-volume",
   "metadata": {},
   "outputs": [],
   "source": [
    "inputs=trainset.get_text(\n",
    "    textx\n",
    ")\n",
    "sequence = torch.autograd.Variable(\n",
    "    inputs.unsqueeze(0)).cuda().long()\n",
    "sequence.size()\n",
    "with torch.no_grad():\n",
    "    mel_outputs, mel_outputs_postnet, _, alignments = model.inference(sequence)"
   ]
  },
  {
   "cell_type": "code",
   "execution_count": null,
   "id": "adjustable-arabic",
   "metadata": {},
   "outputs": [],
   "source": [
    "sequence"
   ]
  },
  {
   "cell_type": "code",
   "execution_count": null,
   "id": "confused-coffee",
   "metadata": {},
   "outputs": [],
   "source": [
    "# mel_outputs, mel_outputs_postnet, _, alignments"
   ]
  },
  {
   "cell_type": "code",
   "execution_count": null,
   "id": "increased-child",
   "metadata": {},
   "outputs": [],
   "source": [
    "# trainset.text_embedding.symbol2numeric_dict\n",
    "sequence.size()"
   ]
  },
  {
   "cell_type": "code",
   "execution_count": null,
   "id": "immediate-douglas",
   "metadata": {},
   "outputs": [],
   "source": [
    "plot_data((mel_outputs.float().data.cpu().numpy()[0],\n",
    "           mel_outputs_postnet.float().data.cpu().numpy()[0],\n",
    "           alignments.float().data.cpu().numpy()[0].T))"
   ]
  },
  {
   "cell_type": "code",
   "execution_count": null,
   "id": "sized-supplier",
   "metadata": {},
   "outputs": [],
   "source": [
    "z=torch.mean(mel_outputs_postnet[0], dim=1).detach().cpu().numpy()\n",
    "z"
   ]
  },
  {
   "cell_type": "code",
   "execution_count": null,
   "id": "several-police",
   "metadata": {},
   "outputs": [],
   "source": [
    "plt.subplot(221)\n",
    "plt.plot(np.arange(z.shape[0]), z)\n",
    "plt.yscale('linear')\n",
    "plt.title('linear')\n",
    "plt.grid(True)"
   ]
  },
  {
   "cell_type": "code",
   "execution_count": null,
   "id": "progressive-negotiation",
   "metadata": {},
   "outputs": [],
   "source": [
    "with torch.no_grad():\n",
    "    audio = waveglow.infer(mel_outputs_postnet,sigma=1.0)\n",
    "# with torch.no_grad():\n",
    "#     audio = waveglow.infer(z.unsqueeze(0).float().to(\"cuda\").half(),sigma=1.)"
   ]
  },
  {
   "cell_type": "code",
   "execution_count": null,
   "id": "speaking-dynamics",
   "metadata": {},
   "outputs": [],
   "source": [
    "# from waveglow.mel2samp import load_wav_to_torch\n",
    "# z = load_wav_to_torch(\"./tacotron2/filelists/vlsp/wavs_train/07271.wav\")\n",
    "# au= z[0] / 32768.0\n",
    "# print(au.size())\n",
    "\n",
    "# with torch.no_grad():\n",
    "#     ax = torch.autograd.Variable(au.cuda())\n",
    "#     audio = waveglow((mel_outputs_postnet,ax))"
   ]
  },
  {
   "cell_type": "code",
   "execution_count": null,
   "id": "accompanied-reach",
   "metadata": {},
   "outputs": [],
   "source": [
    "# audio.half()\n",
    "waveglow.n_remaining_channels, mel_outputs_postnet.size(2),audio.size()"
   ]
  },
  {
   "cell_type": "code",
   "execution_count": null,
   "id": "skilled-attendance",
   "metadata": {},
   "outputs": [],
   "source": [
    "388 * 4"
   ]
  },
  {
   "cell_type": "code",
   "execution_count": null,
   "id": "portuguese-module",
   "metadata": {},
   "outputs": [],
   "source": [
    "audio_denoised = denoiser(audio, strength=0.01)[:, 0]\n",
    "a = np.array(audio_denoised[0].data.cpu().numpy())\n"
   ]
  },
  {
   "cell_type": "code",
   "execution_count": null,
   "id": "ignored-quebec",
   "metadata": {},
   "outputs": [],
   "source": [
    "ipd.Audio(a, rate=hparams.sampling_rate, autoplay=False)"
   ]
  },
  {
   "cell_type": "code",
   "execution_count": null,
   "id": "polished-bloom",
   "metadata": {},
   "outputs": [],
   "source": [
    "import matplotlib\n",
    "%matplotlib inline\n",
    "import matplotlib.pylab as plt\n",
    "import librosa\n",
    "import IPython.display as ipd\n",
    "a = np.array(audio[0].data.cpu().numpy())\n",
    "\n",
    "a,index = librosa.effects.trim(a, top_db=40)\n",
    "# ipd.Audio(a, rate=hparams.sampling_rate)"
   ]
  },
  {
   "cell_type": "code",
   "execution_count": null,
   "id": "reported-circular",
   "metadata": {},
   "outputs": [],
   "source": [
    "audio_denoised = denoiser(audio, strength=0.01)[:, 0]\n",
    "a = np.array(audio_denoised[0].data.cpu().numpy())\n",
    "\n",
    "a,index = librosa.effects.trim(a, top_db=40)\n",
    "ipd.Audio(a, rate=hparams.sampling_rate)"
   ]
  },
  {
   "cell_type": "code",
   "execution_count": 22,
   "id": "related-palace",
   "metadata": {},
   "outputs": [],
   "source": [
    "z=trainset.get_mel(\"./tacotron2/filelists/vlsp/wavs_train/07271.wav\")"
   ]
  },
  {
   "cell_type": "code",
   "execution_count": 31,
   "id": "binary-loading",
   "metadata": {},
   "outputs": [
    {
     "data": {
      "text/plain": [
       "tensor([ 0.0000,  0.0000,  0.0000,  ..., -0.0001, -0.0001, -0.0003])"
      ]
     },
     "execution_count": 31,
     "metadata": {},
     "output_type": "execute_result"
    }
   ],
   "source": [
    "from waveglow.mel2samp import load_wav_to_torch\n",
    "z = load_wav_to_torch(\"./tacotron2/filelists/vlsp/wavs_train/07271.wav\")\n",
    "audio = z[0] / 32768.0\n",
    "audio"
   ]
  },
  {
   "cell_type": "code",
   "execution_count": null,
   "id": "reserved-fundamental",
   "metadata": {},
   "outputs": [],
   "source": [
    "from scipy.io.wavfile import write\n",
    "# normalize audio for now\n",
    "a = a/ np.abs(a).max()\n",
    "# a = a[:hparams['sampling_rate'] * 3]\n",
    "import os\n",
    "write(\"./out.wav\", hparams['sampling_rate'], a)"
   ]
  },
  {
   "cell_type": "code",
   "execution_count": null,
   "id": "automated-reporter",
   "metadata": {},
   "outputs": [],
   "source": [
    "a.astype(np.int16)"
   ]
  },
  {
   "cell_type": "code",
   "execution_count": null,
   "id": "protected-carter",
   "metadata": {},
   "outputs": [],
   "source": [
    "librosa.output.write_wav('file_trim_5s.wav', a,hparams['sampling_rate'])"
   ]
  },
  {
   "cell_type": "code",
   "execution_count": null,
   "id": "coastal-difficulty",
   "metadata": {},
   "outputs": [],
   "source": [
    "hparams['sampling_rate']"
   ]
  },
  {
   "cell_type": "code",
   "execution_count": null,
   "id": "rational-topic",
   "metadata": {},
   "outputs": [],
   "source": [
    "z=trainset.get_mel(\"./tacotron2/filelists/vlsp/wavs_train/07271.wav\")"
   ]
  },
  {
   "cell_type": "code",
   "execution_count": null,
   "id": "handmade-interpretation",
   "metadata": {},
   "outputs": [],
   "source": [
    "z.unsqueeze(0).float().to(\"cuda\")"
   ]
  },
  {
   "cell_type": "code",
   "execution_count": null,
   "id": "entertaining-harvard",
   "metadata": {},
   "outputs": [],
   "source": [
    "z -mel_outputs_postnet.squeeze(0)"
   ]
  },
  {
   "cell_type": "code",
   "execution_count": null,
   "id": "modular-beaver",
   "metadata": {},
   "outputs": [],
   "source": [
    "mel_outputs_postnet.size(),z.size()"
   ]
  },
  {
   "cell_type": "code",
   "execution_count": null,
   "id": "sudden-warner",
   "metadata": {},
   "outputs": [],
   "source": [
    "torch.mean(mel_outputs_postnet[0,:,:341].cpu() - z.cpu())"
   ]
  },
  {
   "cell_type": "code",
   "execution_count": null,
   "id": "burning-backup",
   "metadata": {},
   "outputs": [],
   "source": [
    "torch.exp(z)"
   ]
  },
  {
   "cell_type": "code",
   "execution_count": null,
   "id": "studied-serve",
   "metadata": {},
   "outputs": [],
   "source": []
  }
 ],
 "metadata": {
  "kernelspec": {
   "display_name": "Python 3",
   "language": "python",
   "name": "python3"
  },
  "language_info": {
   "codemirror_mode": {
    "name": "ipython",
    "version": 3
   },
   "file_extension": ".py",
   "mimetype": "text/x-python",
   "name": "python",
   "nbconvert_exporter": "python",
   "pygments_lexer": "ipython3",
   "version": "3.9.2"
  }
 },
 "nbformat": 4,
 "nbformat_minor": 5
}
